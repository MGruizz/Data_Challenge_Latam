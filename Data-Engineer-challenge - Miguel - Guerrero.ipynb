{
 "cells": [
  {
   "cell_type": "markdown",
   "metadata": {},
   "source": [
    "#Data Engineer Challenge - Miguel Guerrero\n",
    "\n",
    "obs: Se importan las librerias dentro del segmento de codigo de cada solucion con el objetivo que sea utilizado unicamente ahi a pesar que puede ser reutilizado en otro segmento\n",
    "esto con el objetivo de aportar claridad a las librerias necesarias para el funcionamiento de la solucion"
   ]
  },
  {
   "cell_type": "markdown",
   "metadata": {},
   "source": [
    "# Las top 10 fechas donde hay más tweets. \n",
    "Mencionar el usuario (username) que más publicaciones tiene por cada uno de esos días. Debe incluir las siguientes funciones:\n",
    "# Enfoque: Tiempo de ejecucion optimizado\n",
    "\n",
    "Para este caso convertimos el archivo json a un dataframe de pandas por los beneficios que este tiene en la optimizacion de las operaciones con datos.\n",
    "Como se esta priorizando el tiempo de ejecucion por sobre de la memoria."
   ]
  },
  {
   "cell_type": "code",
   "execution_count": null,
   "metadata": {},
   "outputs": [],
   "source": [
    "import pandas as pd\n",
    "from datetime import datetime\n",
    "from typing import List, Tuple\n",
    "\n",
    "#Definimos la funcion que nos devolvera la lista de los 10 usuarios con mas tweets\n",
    "def q1_time(file_path: str) -> List[Tuple[datetime.date, str]]:\n",
    "    \n",
    "    # Cargamos los datos en un df de pandas\n",
    "    df = pd.read_json(file_path, lines=True)\n",
    "    \n",
    "    # Convertimos la columna date a datetime de pandas y extraemos solo la fecha\n",
    "    df['date'] = pd.to_datetime(df['date']).dt.date\n",
    "    \n",
    "    # Extraemos el nombre de usuario de la columna user\n",
    "    df['username'] = df['user'].apply(lambda x: x['username'])\n",
    "\n",
    "    # Agrupamos por fecha y nombre de usuario y contamos el numero de tweets\n",
    "    grouped = df.groupby(['date', 'username']).size().reset_index(name='count')\n",
    "    \n",
    "    # Ordenamos por fecha y numero de tweets de forma descendente\n",
    "    grouped_sorted = grouped.sort_values(by=['date', 'count'], ascending=[False, False])\n",
    "    \n",
    "    # Obtenemos las top 10 fechas con mas tweets\n",
    "    top_dates = grouped_sorted['date'].unique()[:10]\n",
    "    \n",
    "    # Obtenemos el usuario con mas tweets para cada una de las top 10 fechas\n",
    "    result = []\n",
    "    for date in top_dates:\n",
    "        #Como ya esta ordenado el df, el primer usuario de cada fecha sera el que tiene mas tweets\n",
    "        top_user_row = grouped_sorted[grouped_sorted['date'] == date].iloc[0]\n",
    "        result.append((top_user_row['date'], top_user_row['username']))\n",
    "    \n",
    "    return result\n",
    "\n",
    "q1_time(\"./farmers-protest-tweets-2021-2-4.json\")"
   ]
  }
 ],
 "metadata": {
  "language_info": {
   "name": "python"
  },
  "orig_nbformat": 4
 },
 "nbformat": 4,
 "nbformat_minor": 2
}
