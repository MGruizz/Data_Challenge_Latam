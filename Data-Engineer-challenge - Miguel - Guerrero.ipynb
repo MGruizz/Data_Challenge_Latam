{
 "cells": [
  {
   "cell_type": "markdown",
   "metadata": {},
   "source": [
    "# Data Engineer Challenge - Miguel Guerrero\n",
    "\n",
    "obs: Se importan las librerias dentro del segmento de codigo de cada solucion con el objetivo que sea utilizado unicamente ahi a pesar que puede ser reutilizado en otro segmento\n",
    "esto con el objetivo de aportar claridad a las librerias necesarias para el funcionamiento de la solucion\n",
    "\n",
    "- El archivo json se tiene en el directorio raiz de este archivo."
   ]
  },
  {
   "cell_type": "markdown",
   "metadata": {},
   "source": [
    "# 1 Las top 10 fechas donde hay más tweets. \n",
    "Mencionar el usuario (username) que más publicaciones tiene por cada uno de esos días.\n",
    "- Enfoque: Tiempo de ejecucion optimizado\n",
    "\n",
    "Para este caso se convierte el archivo json a un dataframe de pandas por los beneficios que este tiene en la optimizacion de las operaciones con datos.\n",
    "Como se esta priorizando el tiempo de ejecucion por sobre de la memoria. Ademas luego de leer el JSON, se guarda el DF en formato Parquet para uso futuro."
   ]
  },
  {
   "cell_type": "code",
   "execution_count": 40,
   "metadata": {},
   "outputs": [],
   "source": [
    "import os\n",
    "import pandas as pd\n",
    "from datetime import datetime\n",
    "from typing import List, Tuple\n",
    "\n",
    "#Se define la funcion que nos devolvera la top 10 fechas con mas tweets y se menciona el usuario con mas tweets en estas fechas con enfoque en optimizacion del tiempo de ejecucion\n",
    "def q1_time(file_path: str) -> List[Tuple[datetime.date, str]]:\n",
    "    \n",
    "    #Se ajusta ruta de lectura de archivo json a .parquet para futuras lecturas\n",
    "    parquet_file = file_path.replace('.json', '.parquet')\n",
    "    \n",
    "    #Se verifica si el archivo .parquet existe, si existe se lee, si no se crea\n",
    "    if os.path.exists(parquet_file):\n",
    "        df = pd.read_parquet(parquet_file)\n",
    "    else:\n",
    "        df = pd.read_json(file_path, lines=True)\n",
    "        df.to_parquet(parquet_file, index=False)\n",
    "    \n",
    "\n",
    "    #Se convierte la columna date a datetime de pandas y extraemos solo la fecha\n",
    "    df['date'] = pd.to_datetime(df['date']).dt.date\n",
    "    \n",
    "    #Se extrae el nombre de usuario de la columna user\n",
    "    df['username'] = df['user'].apply(lambda x: x.get('username'))\n",
    "    \n",
    "    #Se elimina la columna user\n",
    "    del df['user']\n",
    "\n",
    "    #Se agrupa el DataFrame por fecha y nombre de usuario y se cuenta el número de tweets para cada combinación\n",
    "    grouped = df.groupby(['date', 'username']).size().reset_index(name='count')\n",
    "\n",
    "    #Se obtiene las 10 fechas con el mayor número de tweets.\n",
    "    top_dates_df = df['date'].value_counts().nlargest(10).reset_index()\n",
    "\n",
    "    # Se obtiene el usuario con mas tweets para cada una de las 10 fechas\n",
    "    result = []\n",
    "    for _, row in top_dates_df.iterrows():\n",
    "        date = row['date']\n",
    "        top_user_df = grouped[grouped['date'] == date].nlargest(1, 'count')\n",
    "        top_user = top_user_df['username'].iloc[0]\n",
    "        result.append((date, top_user))\n",
    "    \n",
    "    return result\n",
    "\n",
    "#Se ejecuta la funcion\n",
    "#q1_time('./farmers-protest-tweets-2021-2-4.json')\n"
   ]
  },
  {
   "cell_type": "markdown",
   "metadata": {},
   "source": [
    "Enfoque: Memoria en uso optimizada\n",
    "\n",
    "Para este se utiliza el archivo json y se lee linea por linea.\n"
   ]
  },
  {
   "cell_type": "code",
   "execution_count": 41,
   "metadata": {},
   "outputs": [],
   "source": [
    "from datetime import datetime\n",
    "from typing import List, Tuple\n",
    "from collections import defaultdict\n",
    "import ujson as json\n",
    "\n",
    "#Se define la funcion que nos devolvera la top 10 fechas con mas tweets y se menciona el usuario con mas tweets en estas fechas con enfoque en optimizacion de la memoria en uso\n",
    "def q1_memory(file_path: str) -> List[Tuple[datetime.date, str]]:\n",
    "    \n",
    "    # Diccionario para mantener el conteo de tweets por fecha\n",
    "    date_counts = defaultdict(int)\n",
    "    # Diccionario para mantener el conteo de tweets de usuario por fecha\n",
    "    user_date_counts = defaultdict(lambda: defaultdict(int))\n",
    "    \n",
    "    with open(file_path, \"r\") as file:\n",
    "        for line in file:\n",
    "            tweet = json.loads(line)\n",
    "            # Se extrae la date del tweet y la convertimos a datetime.date\n",
    "            tweet_date = datetime.strptime(tweet['date'].split(\"T\")[0], '%Y-%m-%d').date()\n",
    "            # Se actualiza el conteo de tweets para esa fecha\n",
    "            date_counts[tweet_date] += 1\n",
    "            # Se actualiza el conteo de tweets de usuario para esa fecha\n",
    "            user_date_counts[tweet_date][tweet['user']['username']] += 1\n",
    "\n",
    "    # Se ordena las fechas por numero de tweets de forma descendente y se guarda el top 10\n",
    "    top_dates = sorted(date_counts, key=date_counts.get, reverse=True)[:10]\n",
    "    # Para cada fecha, se obtiene el usuario con mas tweets\n",
    "    result = []\n",
    "    for date in top_dates:\n",
    "        #Se obtiene el usuario con mas tweets para cada fecha\n",
    "        top_user = max(user_date_counts[date], key=user_date_counts[date].get)\n",
    "        result.append((date, top_user))\n",
    "    \n",
    "    return result\n",
    "\n",
    "# Se ejecuta la funcion\n",
    "#q1_memory('./farmers-protest-tweets-2021-2-4.json')"
   ]
  },
  {
   "cell_type": "markdown",
   "metadata": {},
   "source": [
    "# 2. Los top 10 emojis más usados con su respectivo conteo.\n",
    "Enfoque: Tiempo de ejecucion optimizado"
   ]
  },
  {
   "cell_type": "code",
   "execution_count": 42,
   "metadata": {},
   "outputs": [],
   "source": [
    "import os\n",
    "import pandas as pd\n",
    "import emoji\n",
    "from datetime import datetime\n",
    "from collections import Counter\n",
    "from typing import List, Tuple\n",
    "\n",
    "# Se define la funcion que nos devolvera la lista de los 10 emojis mas usados con enfoque en optimizacion del tiempo de ejecucion\n",
    "def q2_time(file_path: str) -> List[Tuple[str, int]]:\n",
    "    \n",
    "    # Se ajusta ruta de lectura de archivo json a .parquet para futuras lecturas\n",
    "    parquet_file = file_path.replace('.json', '.parquet')\n",
    "    \n",
    "    # Se verifica si el archivo .parquet existe, si existe se lee, si no se crea\n",
    "    if os.path.exists(parquet_file):\n",
    "        df = pd.read_parquet(parquet_file)\n",
    "    else:\n",
    "        df = pd.read_json(file_path, lines=True)\n",
    "        df.to_parquet(parquet_file, index=False)\n",
    "    \n",
    "    # Se extraen todos los emojis de la columna 'content' y se cuenta su frecuencia\n",
    "    all_emojis = []\n",
    "    for content in df['content']:\n",
    "        emojis_in_content = [entry['emoji'] for entry in emoji.emoji_list(content)]\n",
    "        all_emojis.extend(emojis_in_content)\n",
    "    # Se cuenta la frecuencia de cada emoji\n",
    "    emoji_counts = Counter(all_emojis)\n",
    "\n",
    "    # Se obteniene los top 10 emojis más utilizados\n",
    "    top_emojis = emoji_counts.most_common(10)\n",
    "    \n",
    "    return top_emojis\n",
    "\n",
    "#Se ejecuta la funcion\n",
    "#q2_time('./farmers-protest-tweets-2021-2-4.json')"
   ]
  },
  {
   "cell_type": "markdown",
   "metadata": {},
   "source": [
    "Enfoque: Memoria en uso optimizada"
   ]
  },
  {
   "cell_type": "code",
   "execution_count": 43,
   "metadata": {},
   "outputs": [],
   "source": [
    "import ujson as json\n",
    "from collections import Counter\n",
    "from typing import List, Tuple\n",
    "import emoji\n",
    "\n",
    "#Se define la funcion que nos devolvera la lista de los 10 emojis mas usados con enfoque en optimizacion de la memoria en uso\n",
    "def q2_memory(file_path: str) -> List[Tuple[str, int]]:\n",
    "    \n",
    "    # Se crea un counter para contar la frecuencia de cada emoji\n",
    "    emoji_counts = Counter()\n",
    "    \n",
    "    # Se abre el archivo json y se itera sobre cada tweet\n",
    "    with open(file_path, 'r') as file:\n",
    "        for line in file:\n",
    "            # Se convierte la linea en un diccionario\n",
    "            tweet = json.loads(line)\n",
    "            # Se extrae el contenido del tweet\n",
    "            content = tweet.get('content', '')\n",
    "            # Se extraen los emojis del contenido\n",
    "            emojis_in_content = [entry['emoji'] for entry in emoji.emoji_list(content)]\n",
    "                \n",
    "            # Se actualiza el counter con los emojis encontrados\n",
    "            emoji_counts.update(emojis_in_content)\n",
    "\n",
    "    # Se obtienen los top 10 emojis más utilizados\n",
    "    top_emojis = emoji_counts.most_common(10)\n",
    "    \n",
    "    return top_emojis\n",
    "\n",
    "#Se ejecuta la funcion\n",
    "#q2_memory(\"./farmers-protest-tweets-2021-2-4.json\")"
   ]
  },
  {
   "cell_type": "markdown",
   "metadata": {},
   "source": [
    "# 3. El top 10 histórico de usuarios (username) más influyentes en función del conteo de las menciones (@) que registra cada uno de ellos. \n",
    "Enfoque: Tiempo de ejecucion optimizado"
   ]
  },
  {
   "cell_type": "code",
   "execution_count": 44,
   "metadata": {},
   "outputs": [],
   "source": [
    "import os\n",
    "import pandas as pd\n",
    "from datetime import datetime\n",
    "from collections import Counter\n",
    "from typing import List, Tuple\n",
    "\n",
    "#Se define la funcion que nos devolvera la lista de los 10 usuarios mas mencionados en tweets con enfoque en la optimizacion del tiempo de ejecucion\n",
    "def q3_time(file_path: str) -> List[Tuple[str, int]]:\n",
    "    \n",
    "    #Se ajusta ruta de lectura de archivo json a .parquet para futuras lecturas\n",
    "    parquet_file = file_path.replace('.json', '.parquet')\n",
    "    \n",
    "    #Se verifica si el archivo .parquet existe, si existe se lee, si no se crea\n",
    "    if os.path.exists(parquet_file):\n",
    "        df = pd.read_parquet(parquet_file)\n",
    "    else:\n",
    "        df = pd.read_json(file_path, lines=True)\n",
    "        df.to_parquet(parquet_file, index=False)\n",
    "    \n",
    "    \n",
    "    #Se extraen todas las menciones por cada tweet\n",
    "    df['mentions'] = df['content'].str.findall(r'@(\\w+)')\n",
    "\n",
    "    # Se aplana la lista de menciones, ya que cada tweet puede tener más de una mención\n",
    "    mentions_flat = []\n",
    "    for sublist in df['mentions'].dropna():\n",
    "        for mention in sublist:\n",
    "            mentions_flat.append(mention)\n",
    "    # Se cuenta la frecuencia de cada mención en la lista aplanada\n",
    "    mention_counts = Counter(mentions_flat)\n",
    "    # Obtener los top 10 usuarios más mencionados\n",
    "    top_mentions = mention_counts.most_common(10)\n",
    "    \n",
    "    return top_mentions\n",
    "\n",
    "#Se ejecuta la funcion\n",
    "#q3_time('./farmers-protest-tweets-2021-2-4.json')"
   ]
  },
  {
   "cell_type": "markdown",
   "metadata": {},
   "source": [
    "Enfoque: Memoria en uso optimizada"
   ]
  },
  {
   "cell_type": "code",
   "execution_count": 45,
   "metadata": {},
   "outputs": [],
   "source": [
    "import ujson as json\n",
    "import re\n",
    "\n",
    "#Se define la funcion que nos devolvera la lista de los 10 usuarios mas mencionados en tweets con enfoque en la optimizacion de la memoria en uso\n",
    "def q3_memory(file_path: str) -> List[Tuple[str, int]]:\n",
    "    \n",
    "    # Se crea un counter para contar la frecuencia de cada mención\n",
    "    mention_counts = Counter()\n",
    "    \n",
    "    # Se abre el archivo json y se itera sobre cada tweet\n",
    "    with open(file_path, 'r') as file:\n",
    "        for line in file:\n",
    "            tweet = json.loads(line)\n",
    "            content = tweet.get('content', '')\n",
    "            # Se extraen las menciones del contenido\n",
    "            mentions = re.findall(r'@(\\w+)', content)\n",
    "            # Se actualiza el counter con las menciones encontradas\n",
    "            mention_counts.update(mentions)\n",
    "            \n",
    "    # Obtener los top 10 usuarios más mencionados\n",
    "    top_mentions = mention_counts.most_common(10)\n",
    "    \n",
    "    return top_mentions\n",
    "\n",
    "#Se ejecuta la funcion\n",
    "#q3_memory(\"./farmers-protest-tweets-2021-2-4.json\")"
   ]
  },
  {
   "cell_type": "markdown",
   "metadata": {},
   "source": [
    "# Resultados"
   ]
  },
  {
   "cell_type": "code",
   "execution_count": 47,
   "metadata": {},
   "outputs": [
    {
     "data": {
      "text/plain": [
       "[(datetime.date(2021, 2, 12), 'RanbirS00614606'),\n",
       " (datetime.date(2021, 2, 13), 'MaanDee08215437'),\n",
       " (datetime.date(2021, 2, 17), 'RaaJVinderkaur'),\n",
       " (datetime.date(2021, 2, 16), 'jot__b'),\n",
       " (datetime.date(2021, 2, 14), 'rebelpacifist'),\n",
       " (datetime.date(2021, 2, 18), 'neetuanjle_nitu'),\n",
       " (datetime.date(2021, 2, 15), 'jot__b'),\n",
       " (datetime.date(2021, 2, 20), 'MangalJ23056160'),\n",
       " (datetime.date(2021, 2, 23), 'Surrypuria'),\n",
       " (datetime.date(2021, 2, 19), 'Preetm91')]"
      ]
     },
     "execution_count": 47,
     "metadata": {},
     "output_type": "execute_result"
    }
   ],
   "source": [
    "# Resultados de las funciones Q1\n",
    "q1_time(\"./farmers-protest-tweets-2021-2-4.json\")\n"
   ]
  },
  {
   "cell_type": "code",
   "execution_count": 48,
   "metadata": {},
   "outputs": [
    {
     "data": {
      "text/plain": [
       "[(datetime.date(2021, 2, 12), 'RanbirS00614606'),\n",
       " (datetime.date(2021, 2, 13), 'MaanDee08215437'),\n",
       " (datetime.date(2021, 2, 17), 'RaaJVinderkaur'),\n",
       " (datetime.date(2021, 2, 16), 'jot__b'),\n",
       " (datetime.date(2021, 2, 14), 'rebelpacifist'),\n",
       " (datetime.date(2021, 2, 18), 'neetuanjle_nitu'),\n",
       " (datetime.date(2021, 2, 15), 'jot__b'),\n",
       " (datetime.date(2021, 2, 20), 'MangalJ23056160'),\n",
       " (datetime.date(2021, 2, 23), 'Surrypuria'),\n",
       " (datetime.date(2021, 2, 19), 'Preetm91')]"
      ]
     },
     "execution_count": 48,
     "metadata": {},
     "output_type": "execute_result"
    }
   ],
   "source": [
    "q1_memory(\"./farmers-protest-tweets-2021-2-4.json\")"
   ]
  },
  {
   "cell_type": "code",
   "execution_count": 49,
   "metadata": {},
   "outputs": [
    {
     "data": {
      "text/plain": [
       "[('🙏', 5049),\n",
       " ('😂', 3072),\n",
       " ('🚜', 2972),\n",
       " ('🌾', 2182),\n",
       " ('🇮🇳', 2086),\n",
       " ('🤣', 1668),\n",
       " ('✊', 1651),\n",
       " ('❤️', 1382),\n",
       " ('🙏🏻', 1317),\n",
       " ('💚', 1040)]"
      ]
     },
     "execution_count": 49,
     "metadata": {},
     "output_type": "execute_result"
    }
   ],
   "source": [
    "# Resultados de las funciones Q2\n",
    "q2_time(\"./farmers-protest-tweets-2021-2-4.json\")\n"
   ]
  },
  {
   "cell_type": "code",
   "execution_count": 50,
   "metadata": {},
   "outputs": [
    {
     "data": {
      "text/plain": [
       "[('🙏', 5049),\n",
       " ('😂', 3072),\n",
       " ('🚜', 2972),\n",
       " ('🌾', 2182),\n",
       " ('🇮🇳', 2086),\n",
       " ('🤣', 1668),\n",
       " ('✊', 1651),\n",
       " ('❤️', 1382),\n",
       " ('🙏🏻', 1317),\n",
       " ('💚', 1040)]"
      ]
     },
     "execution_count": 50,
     "metadata": {},
     "output_type": "execute_result"
    }
   ],
   "source": [
    "q2_memory(\"./farmers-protest-tweets-2021-2-4.json\")"
   ]
  },
  {
   "cell_type": "code",
   "execution_count": 51,
   "metadata": {},
   "outputs": [
    {
     "data": {
      "text/plain": [
       "[('narendramodi', 2261),\n",
       " ('Kisanektamorcha', 1836),\n",
       " ('RakeshTikaitBKU', 1639),\n",
       " ('PMOIndia', 1422),\n",
       " ('RahulGandhi', 1125),\n",
       " ('GretaThunberg', 1046),\n",
       " ('RaviSinghKA', 1015),\n",
       " ('rihanna', 972),\n",
       " ('UNHumanRights', 962),\n",
       " ('meenaharris', 925)]"
      ]
     },
     "execution_count": 51,
     "metadata": {},
     "output_type": "execute_result"
    }
   ],
   "source": [
    "# Resultados de las funciones Q3\n",
    "q3_time(\"./farmers-protest-tweets-2021-2-4.json\")\n"
   ]
  },
  {
   "cell_type": "code",
   "execution_count": 52,
   "metadata": {},
   "outputs": [
    {
     "data": {
      "text/plain": [
       "[('narendramodi', 2261),\n",
       " ('Kisanektamorcha', 1836),\n",
       " ('RakeshTikaitBKU', 1639),\n",
       " ('PMOIndia', 1422),\n",
       " ('RahulGandhi', 1125),\n",
       " ('GretaThunberg', 1046),\n",
       " ('RaviSinghKA', 1015),\n",
       " ('rihanna', 972),\n",
       " ('UNHumanRights', 962),\n",
       " ('meenaharris', 925)]"
      ]
     },
     "execution_count": 52,
     "metadata": {},
     "output_type": "execute_result"
    }
   ],
   "source": [
    "q3_memory(\"./farmers-protest-tweets-2021-2-4.json\")"
   ]
  },
  {
   "cell_type": "markdown",
   "metadata": {},
   "source": [
    "# Posibles mejoras generales orientadas al enfoque de tiempo de ejecucion optimo:\n",
    "\n",
    "- Tener el archivo .parquet preparado con las columnas necesarias y de este modo restarle carga a la funcion y solo se enfoque a operar sobre el dataframe. Incluso de ser posible tener listo el archivo solo con las columnas necesarias.\n",
    "\n",
    "Comentario: La solucion con archivo parquet en algunos casos en la primera ejecucion no es la mas rapida pero en futuras ejecuciones es la que hace un mejor uso del tiempo de ejecucion.\n",
    "\n"
   ]
  },
  {
   "cell_type": "markdown",
   "metadata": {},
   "source": [
    "# Evaluacion de funciones"
   ]
  },
  {
   "cell_type": "code",
   "execution_count": 53,
   "metadata": {},
   "outputs": [],
   "source": [
    "import cProfile\n",
    "import pstats\n",
    "from memory_profiler import profile"
   ]
  },
  {
   "cell_type": "code",
   "execution_count": 57,
   "metadata": {},
   "outputs": [
    {
     "name": "stdout",
     "output_type": "stream",
     "text": [
      "The memory_profiler extension is already loaded. To reload it, use:\n",
      "  %reload_ext memory_profiler\n",
      "Evaluacion de memoria q1_time\n",
      "peak memory: 4171.46 MiB, increment: 136.88 MiB\n",
      "Evaluacion de memoria q1_memory\n",
      "peak memory: 4094.05 MiB, increment: 0.14 MiB\n",
      "Fri Sep 29 16:30:17 2023    output.pstats\n",
      "\n",
      "         3542602 function calls (3541904 primitive calls) in 9.036 seconds\n",
      "\n",
      "   Ordered by: cumulative time\n",
      "   List reduced from 898 to 10 due to restriction <10>\n",
      "\n",
      "   ncalls  tottime  percall  cumtime  percall filename:lineno(function)\n",
      "        3    0.000    0.000    9.037    3.012 C:\\Users\\migue\\AppData\\Roaming\\Python\\Python310\\site-packages\\IPython\\core\\interactiveshell.py:3472(run_code)\n",
      "        3    0.000    0.000    9.037    3.012 {built-in method builtins.exec}\n",
      "        1    1.187    1.187    6.335    6.335 C:\\Users\\migue\\AppData\\Local\\Temp\\ipykernel_7752\\1890755831.py:7(q1_memory)\n",
      "        1    0.148    0.148    2.701    2.701 C:\\Users\\migue\\AppData\\Local\\Temp\\ipykernel_7752\\1554105092.py:1(<module>)\n",
      "        1    0.001    0.001    2.553    2.553 C:\\Users\\migue\\AppData\\Local\\Temp\\ipykernel_7752\\3044363625.py:7(q1_time)\n",
      "   117407    2.385    0.000    2.385    0.000 {built-in method ujson.loads}\n",
      "        1    0.002    0.002    2.362    2.362 c:\\Users\\migue\\AppData\\Local\\Programs\\Python\\Python310\\lib\\site-packages\\pandas\\io\\parquet.py:428(read_parquet)\n",
      "        1    0.000    0.000    2.360    2.360 c:\\Users\\migue\\AppData\\Local\\Programs\\Python\\Python310\\lib\\site-packages\\pandas\\io\\parquet.py:196(read)\n",
      "        1    0.000    0.000    1.907    1.907 {method 'to_pandas' of 'pyarrow.lib._PandasConvertible' objects}\n",
      "        1    0.000    0.000    1.907    1.907 c:\\Users\\migue\\AppData\\Local\\Programs\\Python\\Python310\\lib\\site-packages\\pyarrow\\pandas_compat.py:749(table_to_blockmanager)\n",
      "\n",
      "\n"
     ]
    },
    {
     "data": {
      "text/plain": [
       "<pstats.Stats at 0x2071c943e50>"
      ]
     },
     "execution_count": 57,
     "metadata": {},
     "output_type": "execute_result"
    }
   ],
   "source": [
    "# Segmento para evaluar Q1\n",
    "\n",
    "# Evaluacion de uso de memoria: \n",
    "\n",
    "%load_ext memory_profiler\n",
    "print(\"Evaluacion de memoria q1_time\")\n",
    "%memit q1_time(\"./farmers-protest-tweets-2021-2-4.json\")\n",
    "print(\"Evaluacion de memoria q1_memory\")\n",
    "%memit q1_memory(\"./farmers-protest-tweets-2021-2-4.json\")\n",
    "\n",
    "profiler = cProfile.Profile()\n",
    "profiler.enable()\n",
    "\n",
    "# Evaluacion de tiempo de ejecucion: \n",
    "# Codigo a evaluar:\n",
    "q1_memory(\"./farmers-protest-tweets-2021-2-4.json\")\n",
    "q1_time(\"./farmers-protest-tweets-2021-2-4.json\")\n",
    "profiler.disable()\n",
    "profiler.dump_stats(\"output.pstats\")\n",
    "stats = pstats.Stats(\"output.pstats\")\n",
    "stats.sort_stats(\"cumulative\")\n",
    "# Se muestran resultados ordenados por tiempo de ejecucion, del mas lento al mas rapido\n",
    "stats.print_stats(10)"
   ]
  },
  {
   "cell_type": "code",
   "execution_count": 56,
   "metadata": {},
   "outputs": [
    {
     "name": "stdout",
     "output_type": "stream",
     "text": [
      "The memory_profiler extension is already loaded. To reload it, use:\n",
      "  %reload_ext memory_profiler\n",
      "Evaluacion de memoria q2_time\n",
      "peak memory: 4062.60 MiB, increment: 153.31 MiB\n",
      "Evaluacion de memoria q2_memory\n",
      "peak memory: 3993.86 MiB, increment: 0.01 MiB\n",
      "Fri Sep 29 16:29:50 2023    output.pstats\n",
      "\n",
      "         138721788 function calls (138721776 primitive calls) in 62.744 seconds\n",
      "\n",
      "   Ordered by: cumulative time\n",
      "   List reduced from 429 to 10 due to restriction <10>\n",
      "\n",
      "   ncalls  tottime  percall  cumtime  percall filename:lineno(function)\n",
      "        3    0.000    0.000   70.437   23.479 C:\\Users\\migue\\AppData\\Roaming\\Python\\Python310\\site-packages\\IPython\\core\\interactiveshell.py:3472(run_code)\n",
      "        3    0.000    0.000   70.437   23.479 {built-in method builtins.exec}\n",
      "   234814    0.154    0.000   62.800    0.000 c:\\Users\\migue\\AppData\\Local\\Programs\\Python\\Python310\\lib\\site-packages\\emoji\\core.py:282(emoji_list)\n",
      "   234814   15.049    0.000   62.647    0.000 c:\\Users\\migue\\AppData\\Local\\Programs\\Python\\Python310\\lib\\site-packages\\emoji\\core.py:289(<listcomp>)\n",
      " 34281412   28.571    0.000   44.466    0.000 c:\\Users\\migue\\AppData\\Local\\Programs\\Python\\Python310\\lib\\site-packages\\emoji\\tokenizer.py:158(tokenize)\n",
      "        1    1.297    1.297   36.663   36.663 C:\\Users\\migue\\AppData\\Local\\Temp\\ipykernel_7752\\1659516378.py:7(q2_memory)\n",
      "        1    0.152    0.152   33.773   33.773 C:\\Users\\migue\\AppData\\Local\\Temp\\ipykernel_7752\\2845751535.py:1(<module>)\n",
      "        1    0.118    0.118   33.621   33.621 C:\\Users\\migue\\AppData\\Local\\Temp\\ipykernel_7752\\2009965495.py:9(q2_time)\n",
      " 34046613    5.257    0.000    5.257    0.000 {built-in method __new__ of type object at 0x00007FF9C7193920}\n",
      "34164351/34164347    3.174    0.000    3.250    0.000 {built-in method builtins.isinstance}\n",
      "\n",
      "\n"
     ]
    },
    {
     "data": {
      "text/plain": [
       "<pstats.Stats at 0x2071c942410>"
      ]
     },
     "execution_count": 56,
     "metadata": {},
     "output_type": "execute_result"
    }
   ],
   "source": [
    "# Segmento para evaluar Q2\n",
    "\n",
    "# Evaluacion de uso de memoria: \n",
    "\n",
    "%load_ext memory_profiler\n",
    "print(\"Evaluacion de memoria q2_time\")\n",
    "%memit q2_time(\"./farmers-protest-tweets-2021-2-4.json\")\n",
    "print(\"Evaluacion de memoria q2_memory\")\n",
    "%memit q2_memory(\"./farmers-protest-tweets-2021-2-4.json\")\n",
    "\n",
    "profiler = cProfile.Profile()\n",
    "profiler.enable()\n",
    "\n",
    "# Evaluacion de tiempo de ejecucion: \n",
    "# Codigo a evaluar:\n",
    "q2_memory(\"./farmers-protest-tweets-2021-2-4.json\")\n",
    "q2_time(\"./farmers-protest-tweets-2021-2-4.json\")\n",
    "profiler.disable()\n",
    "profiler.dump_stats(\"output.pstats\")\n",
    "stats = pstats.Stats(\"output.pstats\")\n",
    "stats.sort_stats(\"cumulative\")\n",
    "# Se muestran resultados ordenados por tiempo de ejecucion, del mas lento al mas rapido\n",
    "stats.print_stats(10)"
   ]
  },
  {
   "cell_type": "code",
   "execution_count": 58,
   "metadata": {},
   "outputs": [
    {
     "name": "stdout",
     "output_type": "stream",
     "text": [
      "The memory_profiler extension is already loaded. To reload it, use:\n",
      "  %reload_ext memory_profiler\n",
      "Evaluacion de memoria q3_time\n",
      "peak memory: 4196.01 MiB, increment: 148.43 MiB\n",
      "Evaluacion de memoria q3_memory\n",
      "peak memory: 4065.56 MiB, increment: 0.09 MiB\n",
      "Fri Sep 29 16:30:49 2023    output.pstats\n",
      "\n",
      "         1497835 function calls (1497807 primitive calls) in 7.248 seconds\n",
      "\n",
      "   Ordered by: cumulative time\n",
      "   List reduced from 541 to 10 due to restriction <10>\n",
      "\n",
      "   ncalls  tottime  percall  cumtime  percall filename:lineno(function)\n",
      "        3    0.000    0.000    7.248    2.416 C:\\Users\\migue\\AppData\\Roaming\\Python\\Python310\\site-packages\\IPython\\core\\interactiveshell.py:3472(run_code)\n",
      "        3    0.000    0.000    7.248    2.416 {built-in method builtins.exec}\n",
      "        1    1.027    1.027    4.720    4.720 C:\\Users\\migue\\AppData\\Local\\Temp\\ipykernel_7752\\2932543489.py:5(q3_memory)\n",
      "        1    0.005    0.005    2.528    2.528 C:\\Users\\migue\\AppData\\Local\\Temp\\ipykernel_7752\\955787143.py:1(<module>)\n",
      "        1    0.027    0.027    2.523    2.523 C:\\Users\\migue\\AppData\\Local\\Temp\\ipykernel_7752\\3381788069.py:8(q3_time)\n",
      "   117407    2.353    0.000    2.353    0.000 {built-in method ujson.loads}\n",
      "        1    0.002    0.002    2.261    2.261 c:\\Users\\migue\\AppData\\Local\\Programs\\Python\\Python310\\lib\\site-packages\\pandas\\io\\parquet.py:428(read_parquet)\n",
      "        1    0.000    0.000    2.258    2.258 c:\\Users\\migue\\AppData\\Local\\Programs\\Python\\Python310\\lib\\site-packages\\pandas\\io\\parquet.py:196(read)\n",
      "        1    0.000    0.000    1.795    1.795 {method 'to_pandas' of 'pyarrow.lib._PandasConvertible' objects}\n",
      "        1    0.000    0.000    1.795    1.795 c:\\Users\\migue\\AppData\\Local\\Programs\\Python\\Python310\\lib\\site-packages\\pyarrow\\pandas_compat.py:749(table_to_blockmanager)\n",
      "\n",
      "\n"
     ]
    },
    {
     "data": {
      "text/plain": [
       "<pstats.Stats at 0x2071c9421d0>"
      ]
     },
     "execution_count": 58,
     "metadata": {},
     "output_type": "execute_result"
    }
   ],
   "source": [
    "# Segmento para evaluar Q3\n",
    "\n",
    "# Evaluacion de uso de memoria: \n",
    "\n",
    "%load_ext memory_profiler\n",
    "print(\"Evaluacion de memoria q3_time\")\n",
    "%memit q3_time(\"./farmers-protest-tweets-2021-2-4.json\")\n",
    "print(\"Evaluacion de memoria q3_memory\")\n",
    "%memit q3_memory(\"./farmers-protest-tweets-2021-2-4.json\")\n",
    "\n",
    "profiler = cProfile.Profile()\n",
    "profiler.enable()\n",
    "\n",
    "# Evaluacion de tiempo de ejecucion: \n",
    "# Codigo a evaluar:\n",
    "q3_memory(\"./farmers-protest-tweets-2021-2-4.json\")\n",
    "q3_time(\"./farmers-protest-tweets-2021-2-4.json\")\n",
    "profiler.disable()\n",
    "profiler.dump_stats(\"output.pstats\")\n",
    "stats = pstats.Stats(\"output.pstats\")\n",
    "stats.sort_stats(\"cumulative\")\n",
    "# Se muestran resultados ordenados por tiempo de ejecucion, del mas lento al mas rapido\n",
    "stats.print_stats(10)"
   ]
  }
 ],
 "metadata": {
  "kernelspec": {
   "display_name": "Python 3",
   "language": "python",
   "name": "python3"
  },
  "language_info": {
   "codemirror_mode": {
    "name": "ipython",
    "version": 3
   },
   "file_extension": ".py",
   "mimetype": "text/x-python",
   "name": "python",
   "nbconvert_exporter": "python",
   "pygments_lexer": "ipython3",
   "version": "3.10.6"
  },
  "orig_nbformat": 4
 },
 "nbformat": 4,
 "nbformat_minor": 2
}
