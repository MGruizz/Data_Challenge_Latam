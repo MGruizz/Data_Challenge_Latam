{
 "cells": [
  {
   "cell_type": "markdown",
   "metadata": {},
   "source": [
    "#Data Engineer Challenge - Miguel Guerrero\n",
    "\n",
    "obs: Se importan las librerias dentro del segmento de codigo de cada solucion con el objetivo que sea utilizado unicamente ahi a pesar que puede ser reutilizado en otro segmento\n",
    "esto con el objetivo de aportar claridad a las librerias necesarias para el funcionamiento de la solucion"
   ]
  },
  {
   "cell_type": "code",
   "execution_count": null,
   "metadata": {},
   "outputs": [],
   "source": [
    "from memory_profiler import profile"
   ]
  },
  {
   "cell_type": "markdown",
   "metadata": {},
   "source": [
    "# Las top 10 fechas donde hay más tweets. \n",
    "Mencionar el usuario (username) que más publicaciones tiene por cada uno de esos días. Debe incluir las siguientes funciones:\n",
    "# Enfoque: Tiempo de ejecucion optimizado\n",
    "\n",
    "Para este caso convertimos el archivo json a un dataframe de pandas por los beneficios que este tiene en la optimizacion de las operaciones con datos.\n",
    "Como se esta priorizando el tiempo de ejecucion por sobre de la memoria."
   ]
  },
  {
   "cell_type": "code",
   "execution_count": 11,
   "metadata": {},
   "outputs": [
    {
     "data": {
      "text/plain": [
       "[(datetime.date(2021, 2, 12), 'RanbirS00614606'),\n",
       " (datetime.date(2021, 2, 13), 'MaanDee08215437'),\n",
       " (datetime.date(2021, 2, 17), 'RaaJVinderkaur'),\n",
       " (datetime.date(2021, 2, 16), 'jot__b'),\n",
       " (datetime.date(2021, 2, 14), 'rebelpacifist'),\n",
       " (datetime.date(2021, 2, 18), 'neetuanjle_nitu'),\n",
       " (datetime.date(2021, 2, 15), 'jot__b'),\n",
       " (datetime.date(2021, 2, 20), 'MangalJ23056160'),\n",
       " (datetime.date(2021, 2, 23), 'Surrypuria'),\n",
       " (datetime.date(2021, 2, 19), 'Preetm91')]"
      ]
     },
     "execution_count": 11,
     "metadata": {},
     "output_type": "execute_result"
    }
   ],
   "source": [
    "import os\n",
    "import ujson as json\n",
    "import pandas as pd\n",
    "from datetime import datetime\n",
    "from typing import List, Tuple\n",
    "\n",
    "#Se define la funcion que nos devolvera la lista de los 10 usuarios con mas tweets\n",
    "def q1_time(file_path: str) -> List[Tuple[datetime.date, str]]:\n",
    "    \n",
    "    #Se nombra el archivo .parquet\n",
    "    parquet_file = file_path.replace('.json', '.parquet')\n",
    "    \n",
    "    #Se verifica si el archivo .parquet existe, si existe se lee, si no se crea\n",
    "    if os.path.exists(parquet_file):\n",
    "        df = pd.read_parquet(parquet_file)\n",
    "    else:\n",
    "        df = pd.read_json(file_path, lines=True)\n",
    "        df.to_parquet(parquet_file, index=False)\n",
    "    \n",
    "\n",
    "    #Se convierte la columna date a datetime de pandas y extraemos solo la fecha\n",
    "    df['date'] = pd.to_datetime(df['date']).dt.date\n",
    "    \n",
    "    #Se extrae el nombre de usuario de la columna user\n",
    "    df['username'] = df['user'].apply(lambda x: x.get('username') if isinstance(x, dict) else None)\n",
    "    \n",
    "    #Se elimina la columna user\n",
    "    del df['user']\n",
    "\n",
    "    #Se agrupa el DataFrame por fecha y nombre de usuario y se cuenta el número de tweets para cada combinación.\n",
    "    grouped = df.groupby(['date', 'username']).size().reset_index(name='count')\n",
    "\n",
    "    #Se obtiene las 10 fechas con el mayor número de tweets.\n",
    "    top_dates_df = df['date'].value_counts().nlargest(10).reset_index()\n",
    "\n",
    "    \n",
    "    result = []\n",
    "    for _, row in top_dates_df.iterrows():\n",
    "        date = row['date']\n",
    "        top_user_df = grouped[grouped['date'] == date].nlargest(1, 'count')\n",
    "        top_user = top_user_df['username'].iloc[0]\n",
    "        result.append((date, top_user))\n",
    "    \n",
    "    return result\n",
    "\n",
    "q1_time('./farmers-protest-tweets-2021-2-4.json')\n"
   ]
  },
  {
   "cell_type": "markdown",
   "metadata": {},
   "source": [
    "# Enfoque: Memoria en uso optimizada\n",
    "\n",
    "Para este se utiliza el archivo json y se lee linea por linea.\n"
   ]
  },
  {
   "cell_type": "code",
   "execution_count": 9,
   "metadata": {},
   "outputs": [
    {
     "name": "stdout",
     "output_type": "stream",
     "text": [
      "The memory_profiler extension is already loaded. To reload it, use:\n",
      "  %reload_ext memory_profiler\n",
      "peak memory: 1832.80 MiB, increment: 3.36 MiB\n"
     ]
    }
   ],
   "source": [
    "from datetime import datetime\n",
    "from typing import List, Tuple\n",
    "from collections import defaultdict\n",
    "import ujson as json\n",
    "\n",
    "def q1_memory(file_path: str) -> List[Tuple[datetime.date, str]]:\n",
    "    \n",
    "    # Diccionario para mantener el conteo de tweets por fecha\n",
    "    date_counts = defaultdict(int)\n",
    "    # Diccionario para mantener el conteo de tweets de usuario por fecha\n",
    "    user_date_counts = defaultdict(lambda: defaultdict(int))\n",
    "    \n",
    "    with open(file_path, \"r\") as file:\n",
    "        for line in file:\n",
    "            tweet = json.loads(line)\n",
    "            # Extraemos la date del tweet y la convertimos a datetime.date\n",
    "            tweet_date = datetime.strptime(tweet['date'].split(\"T\")[0], '%Y-%m-%d').date()\n",
    "            # Actualizamos el conteo de tweets para esa fecha\n",
    "            date_counts[tweet_date] += 1\n",
    "            # Actualizamos el conteo de tweets de usuario para esa fecha\n",
    "            user_date_counts[tweet_date][tweet['user']['username']] += 1\n",
    "\n",
    "    # Ordenamos las fechas por numero de tweets de forma descendente y se guarda el top 10\n",
    "    top_dates = sorted(date_counts, key=date_counts.get, reverse=True)[:10]\n",
    "    # Para cada fecha, obtenemos el usuario con mas tweets\n",
    "    result = []\n",
    "    for date in top_dates:\n",
    "        top_user = max(user_date_counts[date], key=user_date_counts[date].get)\n",
    "        result.append((date, top_user))\n",
    "    \n",
    "    return result\n"
   ]
  },
  {
   "cell_type": "markdown",
   "metadata": {},
   "source": [
    "# Evaluacion de funciones"
   ]
  },
  {
   "cell_type": "code",
   "execution_count": null,
   "metadata": {},
   "outputs": [],
   "source": [
    "import cProfile\n",
    "import pstats"
   ]
  },
  {
   "cell_type": "code",
   "execution_count": 4,
   "metadata": {},
   "outputs": [
    {
     "name": "stderr",
     "output_type": "stream",
     "text": [
      "Exception ignored When destroying _lsprof profiler:\n",
      "Traceback (most recent call last):\n",
      "  File \"C:\\Users\\migue\\AppData\\Local\\Temp\\ipykernel_16872\\1247291909.py\", line 5, in <module>\n",
      "RuntimeError: Cannot install a profile function while another profile function is being installed\n"
     ]
    },
    {
     "name": "stdout",
     "output_type": "stream",
     "text": [
      "Fri Sep 29 00:13:11 2023    output.pstats\n",
      "\n",
      "         5202967 function calls (5202032 primitive calls) in 18.690 seconds\n",
      "\n",
      "   Ordered by: cumulative time\n",
      "   List reduced from 1036 to 10 due to restriction <10>\n",
      "\n",
      "   ncalls  tottime  percall  cumtime  percall filename:lineno(function)\n",
      "        3    0.000    0.000   19.185    6.395 C:\\Users\\migue\\AppData\\Roaming\\Python\\Python310\\site-packages\\IPython\\core\\interactiveshell.py:3472(run_code)\n",
      "        3    0.000    0.000   19.185    6.395 {built-in method builtins.exec}\n",
      "        1    0.015    0.015   11.772   11.772 C:\\Users\\migue\\AppData\\Local\\Temp\\ipykernel_16872\\2600883422.py:8(q1_time)\n",
      "        1    0.046    0.046    7.049    7.049 c:\\Users\\migue\\AppData\\Local\\Programs\\Python\\Python310\\lib\\site-packages\\pandas\\io\\json\\_json.py:486(read_json)\n",
      "        1    1.191    1.191    6.918    6.918 C:\\Users\\migue\\AppData\\Local\\Temp\\ipykernel_16872\\2076002235.py:6(q1_memory)\n",
      "        1    0.017    0.017    6.594    6.594 c:\\Users\\migue\\AppData\\Local\\Programs\\Python\\Python310\\lib\\site-packages\\pandas\\io\\json\\_json.py:941(read)\n",
      "        1    0.000    0.000    5.811    5.811 c:\\Users\\migue\\AppData\\Local\\Programs\\Python\\Python310\\lib\\site-packages\\pandas\\io\\json\\_json.py:983(_get_object_parser)\n",
      "        1    0.000    0.000    5.811    5.811 c:\\Users\\migue\\AppData\\Local\\Programs\\Python\\Python310\\lib\\site-packages\\pandas\\io\\json\\_json.py:1133(parse)\n",
      "        1    0.129    0.129    5.330    5.330 c:\\Users\\migue\\AppData\\Local\\Programs\\Python\\Python310\\lib\\site-packages\\pandas\\io\\json\\_json.py:1314(_parse)\n",
      "        1    4.551    4.551    4.551    4.551 {built-in method _libjson.loads}\n",
      "\n",
      "\n"
     ]
    },
    {
     "data": {
      "text/plain": [
       "<pstats.Stats at 0x27d7883a500>"
      ]
     },
     "execution_count": 4,
     "metadata": {},
     "output_type": "execute_result"
    }
   ],
   "source": [
    "# Q1\n",
    "\n",
    "# Evaluacion de uso de memoria: \n",
    "\n",
    "%load_ext memory_profiler\n",
    "%memit q1_time(\"./farmers-protest-tweets-2021-2-4.json\")\n",
    "%memit q1_memory(\"./farmers-protest-tweets-2021-2-4.json\")\n",
    "\n",
    "profiler = cProfile.Profile()\n",
    "profiler.enable()\n",
    "\n",
    "# Codigo a evaluar:\n",
    "q1_memory(\"./farmers-protest-tweets-2021-2-4.json\")\n",
    "q1_time(\"./farmers-protest-tweets-2021-2-4.json\")\n",
    "profiler.disable()\n",
    "profiler.dump_stats(\"output.pstats\")\n",
    "stats = pstats.Stats(\"output.pstats\")\n",
    "stats.sort_stats(\"cumulative\")\n",
    "stats.print_stats(10)"
   ]
  }
 ],
 "metadata": {
  "kernelspec": {
   "display_name": "Python 3",
   "language": "python",
   "name": "python3"
  },
  "language_info": {
   "codemirror_mode": {
    "name": "ipython",
    "version": 3
   },
   "file_extension": ".py",
   "mimetype": "text/x-python",
   "name": "python",
   "nbconvert_exporter": "python",
   "pygments_lexer": "ipython3",
   "version": "3.10.6"
  },
  "orig_nbformat": 4
 },
 "nbformat": 4,
 "nbformat_minor": 2
}
